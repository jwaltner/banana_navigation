{
 "cells": [
  {
   "cell_type": "markdown",
   "metadata": {},
   "source": [
    "# Navigation\n",
    "\n",
    "---\n",
    "\n",
    "In this notebook, you will learn how to use the Unity ML-Agents environment for the first project of the [Deep Reinforcement Learning Nanodegree](https://www.udacity.com/course/deep-reinforcement-learning-nanodegree--nd893).\n",
    "\n",
    "### 1. Start the Environment\n",
    "\n",
    "We begin by importing some necessary packages.  If the code cell below returns an error, please revisit the project instructions to double-check that you have installed [Unity ML-Agents](https://github.com/Unity-Technologies/ml-agents/blob/master/docs/Installation.md) and [NumPy](http://www.numpy.org/)."
   ]
  },
  {
   "cell_type": "code",
   "execution_count": 1,
   "metadata": {},
   "outputs": [],
   "source": [
    "from unityagents import UnityEnvironment\n",
    "import numpy as np\n",
    "import time\n",
    "import torch\n",
    "from collections import deque\n",
    "import matplotlib.pyplot as plt"
   ]
  },
  {
   "cell_type": "markdown",
   "metadata": {},
   "source": [
    "Next, we will start the environment!  **_Before running the code cell below_**, change the `file_name` parameter to match the location of the Unity environment that you downloaded.\n",
    "\n",
    "- **Mac**: `\"path/to/Banana.app\"`\n",
    "- **Windows** (x86): `\"path/to/Banana_Windows_x86/Banana.exe\"`\n",
    "- **Windows** (x86_64): `\"path/to/Banana_Windows_x86_64/Banana.exe\"`\n",
    "- **Linux** (x86): `\"path/to/Banana_Linux/Banana.x86\"`\n",
    "- **Linux** (x86_64): `\"path/to/Banana_Linux/Banana.x86_64\"`\n",
    "- **Linux** (x86, headless): `\"path/to/Banana_Linux_NoVis/Banana.x86\"`\n",
    "- **Linux** (x86_64, headless): `\"path/to/Banana_Linux_NoVis/Banana.x86_64\"`\n",
    "\n",
    "For instance, if you are using a Mac, then you downloaded `Banana.app`.  If this file is in the same folder as the notebook, then the line below should appear as follows:\n",
    "```\n",
    "env = UnityEnvironment(file_name=\"Banana.app\")\n",
    "```"
   ]
  },
  {
   "cell_type": "code",
   "execution_count": 2,
   "metadata": {},
   "outputs": [
    {
     "name": "stderr",
     "output_type": "stream",
     "text": [
      "INFO:unityagents:\n",
      "'Academy' started successfully!\n",
      "Unity Academy name: Academy\n",
      "        Number of Brains: 1\n",
      "        Number of External Brains : 1\n",
      "        Lesson number : 0\n",
      "        Reset Parameters :\n",
      "\t\t\n",
      "Unity brain name: BananaBrain\n",
      "        Number of Visual Observations (per agent): 0\n",
      "        Vector Observation space type: continuous\n",
      "        Vector Observation space size (per agent): 37\n",
      "        Number of stacked Vector Observation: 1\n",
      "        Vector Action space type: discrete\n",
      "        Vector Action space size (per agent): 4\n",
      "        Vector Action descriptions: , , , \n"
     ]
    }
   ],
   "source": [
    "# The path to the environment must be updated to match the location \n",
    "# of the executable.\n",
    "env = UnityEnvironment(file_name=\"../../Banana.app\")"
   ]
  },
  {
   "cell_type": "markdown",
   "metadata": {},
   "source": [
    "Environments contain **_brains_** which are responsible for deciding the actions of their associated agents. Here we check for the first brain available, and set it as the default brain we will be controlling from Python."
   ]
  },
  {
   "cell_type": "code",
   "execution_count": 3,
   "metadata": {},
   "outputs": [],
   "source": [
    "# get the default brain\n",
    "brain_name = env.brain_names[0]\n",
    "brain = env.brains[brain_name]"
   ]
  },
  {
   "cell_type": "markdown",
   "metadata": {},
   "source": [
    "### 2. Examine the State and Action Spaces\n",
    "\n",
    "The simulation contains a single agent that navigates a large environment.  At each time step, it has four actions at its disposal:\n",
    "- `0` - walk forward \n",
    "- `1` - walk backward\n",
    "- `2` - turn left\n",
    "- `3` - turn right\n",
    "\n",
    "The state space has `37` dimensions and contains the agent's velocity, along with ray-based perception of objects around agent's forward direction.  A reward of `+1` is provided for collecting a yellow banana, and a reward of `-1` is provided for collecting a blue banana. \n",
    "\n",
    "Run the code cell below to print some information about the environment."
   ]
  },
  {
   "cell_type": "code",
   "execution_count": 4,
   "metadata": {},
   "outputs": [
    {
     "name": "stdout",
     "output_type": "stream",
     "text": [
      "Number of agents: 1\n",
      "Number of actions: 4\n",
      "States look like: [1.         0.         0.         0.         0.84408134 0.\n",
      " 0.         1.         0.         0.0748472  0.         1.\n",
      " 0.         0.         0.25755    1.         0.         0.\n",
      " 0.         0.74177343 0.         1.         0.         0.\n",
      " 0.25854847 0.         0.         1.         0.         0.09355672\n",
      " 0.         1.         0.         0.         0.31969345 0.\n",
      " 0.        ]\n",
      "States have length: 37\n"
     ]
    }
   ],
   "source": [
    "# reset the environment\n",
    "env_info = env.reset(train_mode=True)[brain_name]\n",
    "\n",
    "# number of agents in the environment\n",
    "print('Number of agents:', len(env_info.agents))\n",
    "\n",
    "# number of actions\n",
    "action_size = brain.vector_action_space_size\n",
    "print('Number of actions:', action_size)\n",
    "\n",
    "# examine the state space \n",
    "state = env_info.vector_observations[0]\n",
    "print('States look like:', state)\n",
    "state_size = len(state)\n",
    "print('States have length:', state_size)"
   ]
  },
  {
   "cell_type": "markdown",
   "metadata": {},
   "source": [
    "### 3. Train the Model\n",
    "\n",
    "Now it's your turn to train your own agent to solve the environment!  When training the environment, set `train_mode=True`, so that the line for resetting the environment looks like the following:\n",
    "```python\n",
    "env_info = env.reset(train_mode=True)[brain_name]\n",
    "```"
   ]
  },
  {
   "cell_type": "code",
   "execution_count": 5,
   "metadata": {},
   "outputs": [],
   "source": [
    "# There is no need to start at the top of this notebook.  If you want to skip \n",
    "# right to training, run this cell for imports/environment definition and \n",
    "# continue on.  If the environment has already been defined above, then no \n",
    "# need to do it again here.\n",
    "#\n",
    "# ALERT: If you run the environment and then close it, you can not re-run \n",
    "#        the training loop without restarting the kernel or you may get \n",
    "#        a broken pipe to the Unity environment.  This occurs on Mac environments\n",
    "#        and is untested on other OS's\n",
    "#\n",
    "try:\n",
    "    # see if environment is defined from running the code above.\n",
    "    # if it is, do not redefine env.\n",
    "    env\n",
    "except:\n",
    "    from unityagents import UnityEnvironment\n",
    "    import numpy as np\n",
    "    import time\n",
    "    import torch\n",
    "    from collections import deque\n",
    "    import matplotlib.pyplot as plt\n",
    "\n",
    "    env = UnityEnvironment(file_name=\"../../Banana.app\")    \n"
   ]
  },
  {
   "cell_type": "code",
   "execution_count": 6,
   "metadata": {},
   "outputs": [],
   "source": [
    "# get the default brain\n",
    "brain_name = env.brain_names[0]\n",
    "brain = env.brains[brain_name]"
   ]
  },
  {
   "cell_type": "markdown",
   "metadata": {},
   "source": [
    "Interogate the environment to determine the size of the action space as well as the states.  This is required when we move on to defining our agent to operate in this environment."
   ]
  },
  {
   "cell_type": "code",
   "execution_count": 7,
   "metadata": {},
   "outputs": [
    {
     "name": "stdout",
     "output_type": "stream",
     "text": [
      "Number of agents: 1\n",
      "Number of actions: 4\n",
      "States look like: [0.         1.         0.         0.         0.16895212 0.\n",
      " 1.         0.         0.         0.20073597 1.         0.\n",
      " 0.         0.         0.12865657 0.         1.         0.\n",
      " 0.         0.14938059 1.         0.         0.         0.\n",
      " 0.58185619 0.         1.         0.         0.         0.16089135\n",
      " 0.         1.         0.         0.         0.31775284 0.\n",
      " 0.        ]\n",
      "States have length: 37\n"
     ]
    }
   ],
   "source": [
    "# reset the environment\n",
    "env_info = env.reset(train_mode=True)[brain_name]\n",
    "\n",
    "# number of agents in the environment\n",
    "print('Number of agents:', len(env_info.agents))\n",
    "\n",
    "# number of actions\n",
    "action_size = brain.vector_action_space_size\n",
    "print('Number of actions:', action_size)\n",
    "\n",
    "# examine the state space \n",
    "state = env_info.vector_observations[0]\n",
    "print('States look like:', state)\n",
    "state_size = len(state)\n",
    "print('States have length:', state_size)"
   ]
  },
  {
   "cell_type": "markdown",
   "metadata": {},
   "source": [
    "The agent will expect a state size and an action size as shown here.\n",
    "Additionally, our agent is a fully connected network which grows to allow \n",
    "more non-linearity in the decision space and has hidden layers with ReLU\n",
    "activation functions of size:\n",
    "- input:  state_size    = (37)\n",
    "- fc1:    state_size*2  = (74)\n",
    "- fc2:    state_size*4  = (148)\n",
    "- fc3:    state_size*4  = (148)\n",
    "- fc4:    state_size*2  = (74)\n",
    "- output: action_size   = (4)"
   ]
  },
  {
   "cell_type": "code",
   "execution_count": 8,
   "metadata": {},
   "outputs": [],
   "source": [
    "from dqn_agent import Agent\n",
    "agent = Agent(\n",
    "    state_size=state_size, \n",
    "    action_size=action_size, \n",
    "    seed=0, \n",
    "    fc1_units=state_size*2,\n",
    "    fc2_units=state_size*4,\n",
    ")"
   ]
  },
  {
   "cell_type": "markdown",
   "metadata": {},
   "source": [
    "If you would like to pick up from where you left off from a previous training iteration, load the checkpoint file into both the local and target network."
   ]
  },
  {
   "cell_type": "code",
   "execution_count": 9,
   "metadata": {},
   "outputs": [],
   "source": [
    "# # load a checkpoint to start with a trained model.\n",
    "# agent.qnetwork_target.load_state_dict(torch.load('checkpoint.pth'))\n",
    "# agent.qnetwork_local.load_state_dict(torch.load('checkpoint.pth'))"
   ]
  },
  {
   "cell_type": "code",
   "execution_count": 10,
   "metadata": {},
   "outputs": [
    {
     "name": "stdout",
     "output_type": "stream",
     "text": [
      "Episode 100\tAverage Score: 0.87\tElapsed Time: 105.39 sec\n",
      "Episode 200\tAverage Score: 4.22\tElapsed Time: 218.15 sec\n",
      "Episode 300\tAverage Score: 6.75\tElapsed Time: 335.13 sec\n",
      "Episode 400\tAverage Score: 10.49\tElapsed Time: 453.27 sec\n",
      "Episode 479\tAverage Score: 13.02\tElapsed Time: 544.93 sec\n",
      "Environment solved in 379 episodes!\tAverage Score: 13.02\tElapsed Time: 544.93 sec\n",
      "Episode 500\tAverage Score: 13.35\tElapsed Time: 569.86 sec\n",
      "Episode 600\tAverage Score: 13.65\tElapsed Time: 686.16 sec\n",
      "Episode 700\tAverage Score: 14.13\tElapsed Time: 804.00 sec\n",
      "Episode 800\tAverage Score: 14.71\tElapsed Time: 925.84 sec\n",
      "Episode 815\tAverage Score: 15.00\tElapsed Time: 944.29 sec\n",
      "Environment solved in 715 episodes!\tAverage Score: 15.00\tElapsed Time: 944.29 sec\n",
      "Episode 900\tAverage Score: 14.60\tElapsed Time: 1046.52 sec\n",
      "Episode 1000\tAverage Score: 14.00\tElapsed Time: 1171.18 sec\n",
      "Episode 1100\tAverage Score: 13.90\tElapsed Time: 1292.38 sec\n",
      "Episode 1200\tAverage Score: 14.31\tElapsed Time: 1418.26 sec\n",
      "Episode 1300\tAverage Score: 14.49\tElapsed Time: 1537.98 sec\n",
      "Episode 1400\tAverage Score: 13.96\tElapsed Time: 1655.83 sec\n",
      "Episode 1500\tAverage Score: 15.08\tElapsed Time: 1774.44 sec\n",
      "Episode 1600\tAverage Score: 14.20\tElapsed Time: 1892.12 sec\n",
      "Episode 1700\tAverage Score: 15.06\tElapsed Time: 2007.87 sec\n",
      "Episode 1800\tAverage Score: 14.57\tElapsed Time: 2123.50 sec\n",
      "Episode 1900\tAverage Score: 13.83\tElapsed Time: 2239.39 sec\n",
      "Episode 2000\tAverage Score: 14.70\tElapsed Time: 2357.32 sec\n"
     ]
    },
    {
     "data": {
      "image/png": "[encoded data removed]",
      "text/plain": [
       "<Figure size 432x288 with 1 Axes>"
      ]
     },
     "metadata": {
      "needs_background": "light"
     },
     "output_type": "display_data"
    }
   ],
   "source": [
    "# \n",
    "# from the DQN example\n",
    "#\n",
    "def dqn(n_episodes=2000, max_t=1000, eps_start=1.0, eps_end=0.01, eps_decay=0.995):\n",
    "    tic = time.time()\n",
    "    \"\"\"Deep Q-Learning.\n",
    "    \n",
    "    Params\n",
    "    ======\n",
    "        n_episodes (int): maximum number of training episodes\n",
    "        max_t (int): maximum number of timesteps per episode\n",
    "        eps_start (float): starting value of epsilon, for epsilon-greedy action selection\n",
    "        eps_end (float): minimum value of epsilon\n",
    "        eps_decay (float): multiplicative factor (per episode) for decreasing epsilon\n",
    "    \"\"\"\n",
    "    # average points over 100 episodes that we want to solve for and save \n",
    "    # checkpoints for.\n",
    "    solved_13 = False\n",
    "    solved_15 = False\n",
    "    solved_16 = False\n",
    "    \n",
    "    scores = []                        # list containing scores from each episode\n",
    "    scores_window = deque(maxlen=100)  # last 100 scores\n",
    "    eps = eps_start                    # initialize epsilon\n",
    "    for i_episode in range(1, n_episodes+1):\n",
    "        # state = env.reset()                             # gym\n",
    "        # state, _ = env.reset()                          # gymnasium\n",
    "        #-------------------------------------------------# Unity\n",
    "        env_info = env.reset(train_mode=True)[brain_name] # Unity\n",
    "        state = env_info.vector_observations[0]           # Unity\n",
    "        score = 0\n",
    "        for t in range(max_t):\n",
    "            action = agent.act(state, eps)\n",
    "            # # next_state, reward, done, _ = env.step(action) # gym\n",
    "            # next_state, reward, done, _, _ = env.step(action)# gymnasium\n",
    "            #--------------------------------------------------# Unity\n",
    "            env_info = env.step(action)[brain_name]            # send the action to the environment\n",
    "            next_state = env_info.vector_observations[0]       # get the next state\n",
    "            reward = env_info.rewards[0]                       # get the reward\n",
    "            done = env_info.local_done[0]                      # see if episode has finished\n",
    "\n",
    "            agent.step(state, action, reward, next_state, done)\n",
    "            \n",
    "            # give an additional penalty to shape the training in a semi-supervised fashion based\n",
    "            # upon knowledge of the environment\n",
    "            penalty = 0.\n",
    "            reward = reward + penalty\n",
    "            state = next_state\n",
    "            score += reward\n",
    "            if done:\n",
    "                break \n",
    "        scores_window.append(score)       # save most recent score\n",
    "        scores.append(score)              # save most recent score\n",
    "        eps = max(eps_end, eps_decay*eps) # decrease epsilon\n",
    "        print('\\rEpisode {}\\tAverage Score: {:.2f}\\tElapsed Time: {:0.2f} sec'.format(i_episode, np.mean(scores_window), time.time() - tic), end=\"\")\n",
    "        if i_episode % 100 == 0:\n",
    "            print('\\rEpisode {}\\tAverage Score: {:.2f}\\tElapsed Time: {:0.2f} sec'.format(i_episode, np.mean(scores_window), time.time() - tic))\n",
    "        if np.mean(scores_window)>=13.0 and not solved_13:\n",
    "            solved_13 = True\n",
    "            print('\\nEnvironment solved in {:d} episodes!\\tAverage Score: {:.2f}\\tElapsed Time: {:0.2f} sec'.format(i_episode-100, np.mean(scores_window), time.time() - tic))\n",
    "            # save \n",
    "            torch.save(agent.qnetwork_local.state_dict(), 'checkpoint_13.pth')\n",
    "        if np.mean(scores_window)>=15.0 and not solved_15:\n",
    "            solved_15 = True\n",
    "            print('\\nEnvironment solved in {:d} episodes!\\tAverage Score: {:.2f}\\tElapsed Time: {:0.2f} sec'.format(i_episode-100, np.mean(scores_window), time.time() - tic))\n",
    "            # save \n",
    "            torch.save(agent.qnetwork_local.state_dict(), 'checkpoint_15.pth')\n",
    "        if np.mean(scores_window)>=16.0 and not solved_16:\n",
    "            solved_16 = True\n",
    "            print('\\nEnvironment solved in {:d} episodes!\\tAverage Score: {:.2f}\\tElapsed Time: {:0.2f} sec'.format(i_episode-100, np.mean(scores_window), time.time() - tic))\n",
    "            # save \n",
    "            torch.save(agent.qnetwork_local.state_dict(), 'checkpoint_16.pth')\n",
    "    torch.save(agent.qnetwork_local.state_dict(), 'checkpoint_final.pth')\n",
    "    return scores\n",
    "\n",
    "scores = dqn()\n",
    "env.close()\n",
    "\n",
    "# plot the scores\n",
    "fig = plt.figure()\n",
    "ax = fig.add_subplot(111)\n",
    "plt.plot(np.arange(len(scores)), scores)\n",
    "plt.ylabel('Score')\n",
    "plt.xlabel('Episode #')\n",
    "plt.show()"
   ]
  },
  {
   "cell_type": "code",
   "execution_count": 12,
   "metadata": {
    "tags": []
   },
   "outputs": [],
   "source": [
    "# Save scores\n",
    "import pandas as pd\n",
    "pd.Series(scores).to_csv(\"scores.csv\")"
   ]
  },
  {
   "cell_type": "markdown",
   "metadata": {},
   "source": [
    "# Watch Trained Agent"
   ]
  },
  {
   "cell_type": "code",
   "execution_count": 1,
   "metadata": {
    "tags": []
   },
   "outputs": [
    {
     "name": "stderr",
     "output_type": "stream",
     "text": [
      "INFO:unityagents:\n",
      "'Academy' started successfully!\n",
      "Unity Academy name: Academy\n",
      "        Number of Brains: 1\n",
      "        Number of External Brains : 1\n",
      "        Lesson number : 0\n",
      "        Reset Parameters :\n",
      "\t\t\n",
      "Unity brain name: BananaBrain\n",
      "        Number of Visual Observations (per agent): 0\n",
      "        Vector Observation space type: continuous\n",
      "        Vector Observation space size (per agent): 37\n",
      "        Number of stacked Vector Observation: 1\n",
      "        Vector Action space type: discrete\n",
      "        Vector Action space size (per agent): 4\n",
      "        Vector Action descriptions: , , , \n"
     ]
    }
   ],
   "source": [
    "# There is no need to start at the top of this notebook.  If you want to skip \n",
    "# right to training, run this cell for imports/environment definition and \n",
    "# continue on.  If the environment has already been defined above, then no \n",
    "# need to do it again here.\n",
    "#\n",
    "# ALERT: If you run the environment and then close it, you can not re-run \n",
    "#        the training loop without restarting the kernel or you may get \n",
    "#        a broken pipe to the Unity environment.  This occurs on Mac environments\n",
    "#        and is untested on other OS's\n",
    "#\n",
    "try:\n",
    "    # see if environment is defined from running the code above.\n",
    "    # if it is, do not redefine env.\n",
    "    env\n",
    "except:\n",
    "    from unityagents import UnityEnvironment\n",
    "    import numpy as np\n",
    "    import time\n",
    "    import torch\n",
    "    from collections import deque\n",
    "    import matplotlib.pyplot as plt\n",
    "\n",
    "    # seed=0: has a limit cycle and gets stuck\n",
    "    # seed=1: threads the needle with some bananas, approaches a line of bananas, turns grabs them\n",
    "    # env = UnityEnvironment(file_name=\"../../Banana.app\")    \n",
    "    env = UnityEnvironment(file_name=\"../../Banana.app\", seed=1)    "
   ]
  },
  {
   "cell_type": "code",
   "execution_count": 2,
   "metadata": {
    "tags": []
   },
   "outputs": [],
   "source": [
    "# get the default brain\n",
    "brain_name = env.brain_names[0]\n",
    "brain = env.brains[brain_name]"
   ]
  },
  {
   "cell_type": "code",
   "execution_count": 3,
   "metadata": {
    "tags": []
   },
   "outputs": [
    {
     "name": "stdout",
     "output_type": "stream",
     "text": [
      "Number of agents: 1\n",
      "Number of actions: 4\n",
      "States look like: [0.         1.         0.         0.         0.27946243 0.\n",
      " 1.         0.         0.         0.74556106 0.         0.\n",
      " 1.         0.         0.48277503 0.         1.         0.\n",
      " 0.         0.30341193 0.         0.         1.         0.\n",
      " 0.46494457 0.         0.         1.         0.         0.08466676\n",
      " 0.         1.         0.         0.         0.95967758 0.\n",
      " 0.        ]\n",
      "States have length: 37\n"
     ]
    }
   ],
   "source": [
    "# reset the environment\n",
    "env_info = env.reset(train_mode=True)[brain_name]\n",
    "\n",
    "# number of agents in the environment\n",
    "print('Number of agents:', len(env_info.agents))\n",
    "\n",
    "# number of actions\n",
    "action_size = brain.vector_action_space_size\n",
    "print('Number of actions:', action_size)\n",
    "\n",
    "# examine the state space \n",
    "state = env_info.vector_observations[0]\n",
    "print('States look like:', state)\n",
    "state_size = len(state)\n",
    "print('States have length:', state_size)"
   ]
  },
  {
   "cell_type": "code",
   "execution_count": 4,
   "metadata": {
    "tags": []
   },
   "outputs": [],
   "source": [
    "from dqn_agent import Agent\n",
    "agent = Agent(\n",
    "    state_size=state_size, \n",
    "    action_size=action_size, \n",
    "    seed=1, \n",
    "    fc1_units=state_size*2,\n",
    "    fc2_units=state_size*4,\n",
    ")"
   ]
  },
  {
   "cell_type": "code",
   "execution_count": 5,
   "metadata": {
    "tags": []
   },
   "outputs": [
    {
     "data": {
      "text/plain": [
       "<All keys matched successfully>"
      ]
     },
     "execution_count": 5,
     "metadata": {},
     "output_type": "execute_result"
    }
   ],
   "source": [
    "# load a checkpoint to start with a trained model.\n",
    "# checkpoint = \"checkpoint_13.pth\"\n",
    "# checkpoint = \"checkpoint_15.pth\"\n",
    "checkpoint = \"checkpoint_Final.pth\"\n",
    "\n",
    "agent.qnetwork_target.load_state_dict(torch.load(checkpoint))\n",
    "agent.qnetwork_local.load_state_dict(torch.load(checkpoint))\n"
   ]
  },
  {
   "cell_type": "code",
   "execution_count": 6,
   "metadata": {
    "tags": []
   },
   "outputs": [],
   "source": [
    "env_info = env.reset(train_mode=False)[brain_name] # reset the environment\n",
    "state = env_info.vector_observations[0]            # get the current state\n",
    "score = 0                                          # initialize the score\n",
    "while True:\n",
    "    action = agent.act(state)                      # select an action\n",
    "    env_info = env.step(action)[brain_name]        # send the action to the environment\n",
    "    next_state = env_info.vector_observations[0]   # get the next state\n",
    "    reward = env_info.rewards[0]                   # get the reward\n",
    "    done = env_info.local_done[0]                  # see if episode has finished\n",
    "    score += reward                                # update the score\n",
    "    state = next_state                             # roll over the state to next time step\n",
    "    if done:                                       # exit loop if episode finished\n",
    "        break"
   ]
  },
  {
   "cell_type": "code",
   "execution_count": 7,
   "metadata": {
    "tags": []
   },
   "outputs": [],
   "source": [
    "env.close()"
   ]
  },
  {
   "cell_type": "code",
   "execution_count": null,
   "metadata": {},
   "outputs": [],
   "source": []
  }
 ],
 "metadata": {
  "kernelspec": {
   "display_name": "drlnd",
   "language": "python",
   "name": "drlnd"
  },
  "language_info": {
   "codemirror_mode": {
    "name": "ipython",
    "version": 3
   },
   "file_extension": ".py",
   "mimetype": "text/x-python",
   "name": "python",
   "nbconvert_exporter": "python",
   "pygments_lexer": "ipython3",
   "version": "3.6.13"
  }
 },
 "nbformat": 4,
 "nbformat_minor": 4
}
